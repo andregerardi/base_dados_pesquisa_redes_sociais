{
 "cells": [
  {
   "cell_type": "markdown",
   "metadata": {},
   "source": [
    "### Merge dados TSE"
   ]
  },
  {
   "cell_type": "markdown",
   "metadata": {},
   "source": [
    "#### Local onde estão salvas as bases de dados:\n",
    "\n",
    "[1) Rede social](https://cdn.tse.jus.br/estatistica/sead/odsele/consulta_cand/rede_social_candidato_2024.zip)\n",
    "\n",
    "[2) Candidaturas](https://cdn.tse.jus.br/estatistica/sead/odsele/consulta_cand/consulta_cand_2024.zip)"
   ]
  },
  {
   "cell_type": "code",
   "execution_count": 25,
   "metadata": {},
   "outputs": [
    {
     "name": "stderr",
     "output_type": "stream",
     "text": [
      "C:\\Users\\Dirceu André Gerardi\\AppData\\Local\\Temp\\ipykernel_45228\\3134424944.py:6: DtypeWarning: Columns (11,15,17,26,28,29,30) have mixed types. Specify dtype option on import or set low_memory=False.\n",
      "  dados_candidaturas = pd.read_csv('dados_candidatos_2000_2024_filtrada.csv', sep=',', encoding='latin1')\n"
     ]
    }
   ],
   "source": [
    "# importa a biblioteca\n",
    "import pandas as pd\n",
    "\n",
    "#importa as bases de dados\n",
    "dados_redes_sociais = pd.read_csv('rede_social_candidato_2024_BRASIL.csv', sep=';', encoding='latin1', low_memory=False)  \n",
    "dados_candidaturas = pd.read_csv('consulta_cand_2024_BRASIL.csv', sep=';', encoding='latin1', low_memory=False)\n",
    "\n",
    "# merge\n",
    "data = pd.merge(dados_redes_sociais, dados_candidaturas, on='SQ_CANDIDATO', how='left')\n",
    "\n",
    "# save\n",
    "data.to_csv('candidatos_redes_sociais.csv', sep=';', encoding='cp1252', index=False)"
   ]
  }
 ],
 "metadata": {
  "kernelspec": {
   "display_name": "Python 3",
   "language": "python",
   "name": "python3"
  },
  "language_info": {
   "codemirror_mode": {
    "name": "ipython",
    "version": 3
   },
   "file_extension": ".py",
   "mimetype": "text/x-python",
   "name": "python",
   "nbconvert_exporter": "python",
   "pygments_lexer": "ipython3",
   "version": "3.12.4"
  }
 },
 "nbformat": 4,
 "nbformat_minor": 2
}
